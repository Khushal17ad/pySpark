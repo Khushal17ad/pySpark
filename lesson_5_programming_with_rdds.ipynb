{
  "nbformat": 4,
  "nbformat_minor": 0,
  "metadata": {
    "colab": {
      "name": "lesson_5_programming_with_rdds.ipynb",
      "provenance": [],
      "collapsed_sections": []
    },
    "kernelspec": {
      "name": "python3",
      "display_name": "Python 3"
    }
  },
  "cells": [
    {
      "cell_type": "code",
      "metadata": {
        "id": "YYXA20hyY_Yv",
        "colab_type": "code",
        "colab": {
          "base_uri": "https://localhost:8080/",
          "height": 235
        },
        "outputId": "e1148395-4f77-4c89-be56-b0612478008b"
      },
      "source": [
        "!pip install pyspark"
      ],
      "execution_count": 2,
      "outputs": [
        {
          "output_type": "stream",
          "text": [
            "Collecting pyspark\n",
            "\u001b[?25l  Downloading https://files.pythonhosted.org/packages/f0/26/198fc8c0b98580f617cb03cb298c6056587b8f0447e20fa40c5b634ced77/pyspark-3.0.1.tar.gz (204.2MB)\n",
            "\u001b[K     |████████████████████████████████| 204.2MB 74kB/s \n",
            "\u001b[?25hCollecting py4j==0.10.9\n",
            "\u001b[?25l  Downloading https://files.pythonhosted.org/packages/9e/b6/6a4fb90cd235dc8e265a6a2067f2a2c99f0d91787f06aca4bcf7c23f3f80/py4j-0.10.9-py2.py3-none-any.whl (198kB)\n",
            "\u001b[K     |████████████████████████████████| 204kB 46.5MB/s \n",
            "\u001b[?25hBuilding wheels for collected packages: pyspark\n",
            "  Building wheel for pyspark (setup.py) ... \u001b[?25l\u001b[?25hdone\n",
            "  Created wheel for pyspark: filename=pyspark-3.0.1-py2.py3-none-any.whl size=204612243 sha256=d229742e621e0d3d05fac8202c8fa0dc465b780eccdd14085fbc44ba6e69cb82\n",
            "  Stored in directory: /root/.cache/pip/wheels/5e/bd/07/031766ca628adec8435bb40f0bd83bb676ce65ff4007f8e73f\n",
            "Successfully built pyspark\n",
            "Installing collected packages: py4j, pyspark\n",
            "Successfully installed py4j-0.10.9 pyspark-3.0.1\n"
          ],
          "name": "stdout"
        }
      ]
    },
    {
      "cell_type": "markdown",
      "metadata": {
        "id": "WA0v8K1_aGo0",
        "colab_type": "text"
      },
      "source": [
        "### Create Resilient Distributed Datasets (RDD)"
      ]
    },
    {
      "cell_type": "markdown",
      "metadata": {
        "id": "BqnZ_rn3eKYx",
        "colab_type": "text"
      },
      "source": [
        "##### Method 1\n",
        "using *parallelize()* function"
      ]
    },
    {
      "cell_type": "code",
      "metadata": {
        "id": "LO2kRUfJYw7X",
        "colab_type": "code",
        "colab": {}
      },
      "source": [
        "from pyspark.sql import SparkSession\n",
        "\n",
        "# Creating a Spark Session\n",
        "spark = SparkSession \\\n",
        ".builder \\\n",
        ".appName(\"Python Spark create RDD example\") \\\n",
        ".config(\"spark.some.config.option\", \"some-value\") \\\n",
        ".getOrCreate()\n",
        "\n",
        "\n"
      ],
      "execution_count": 7,
      "outputs": []
    },
    {
      "cell_type": "code",
      "metadata": {
        "id": "L8MuurSqZz8K",
        "colab_type": "code",
        "colab": {
          "base_uri": "https://localhost:8080/",
          "height": 214
        },
        "outputId": "350bb0ae-bcef-405e-ef85-d3b7e863aab6"
      },
      "source": [
        "# Spark Details\n",
        "spark"
      ],
      "execution_count": 8,
      "outputs": [
        {
          "output_type": "execute_result",
          "data": {
            "text/html": [
              "\n",
              "            <div>\n",
              "                <p><b>SparkSession - in-memory</b></p>\n",
              "                \n",
              "        <div>\n",
              "            <p><b>SparkContext</b></p>\n",
              "\n",
              "            <p><a href=\"http://1036c7d742e8:4040\">Spark UI</a></p>\n",
              "\n",
              "            <dl>\n",
              "              <dt>Version</dt>\n",
              "                <dd><code>v3.0.1</code></dd>\n",
              "              <dt>Master</dt>\n",
              "                <dd><code>local[*]</code></dd>\n",
              "              <dt>AppName</dt>\n",
              "                <dd><code>Python Spark create RDD example</code></dd>\n",
              "            </dl>\n",
              "        </div>\n",
              "        \n",
              "            </div>\n",
              "        "
            ],
            "text/plain": [
              "<pyspark.sql.session.SparkSession at 0x7f6e49a88b70>"
            ]
          },
          "metadata": {
            "tags": []
          },
          "execution_count": 8
        }
      ]
    },
    {
      "cell_type": "code",
      "metadata": {
        "id": "WyLD-km7Y7IK",
        "colab_type": "code",
        "colab": {}
      },
      "source": [
        "# Creating RDD using parallelize function\n",
        "\n",
        "df = spark.sparkContext.parallelize([(1, 2, 3, 'a b c'),\n",
        "(4, 5, 6, 'd e f'),\n",
        "(7, 8, 9, 'g h i')]).toDF(['col1', 'col2', 'col3','col4'])\n"
      ],
      "execution_count": 9,
      "outputs": []
    },
    {
      "cell_type": "code",
      "metadata": {
        "id": "A4dV50AgZS8C",
        "colab_type": "code",
        "colab": {
          "base_uri": "https://localhost:8080/",
          "height": 151
        },
        "outputId": "ad8a5438-d056-486a-c390-f6ccf9b93acf"
      },
      "source": [
        "df.show()"
      ],
      "execution_count": 10,
      "outputs": [
        {
          "output_type": "stream",
          "text": [
            "+----+----+----+-----+\n",
            "|col1|col2|col3| col4|\n",
            "+----+----+----+-----+\n",
            "|   1|   2|   3|a b c|\n",
            "|   4|   5|   6|d e f|\n",
            "|   7|   8|   9|g h i|\n",
            "+----+----+----+-----+\n",
            "\n"
          ],
          "name": "stdout"
        }
      ]
    },
    {
      "cell_type": "code",
      "metadata": {
        "id": "Yg-AD0KbaYiM",
        "colab_type": "code",
        "colab": {
          "base_uri": "https://localhost:8080/",
          "height": 34
        },
        "outputId": "a0a0a42c-104b-4626-9071-da0f5f8471ac"
      },
      "source": [
        "myData = spark.sparkContext.parallelize([(1,2), (3,4), (5,6), (7,8), (9,10)])\n",
        "myData.collect()"
      ],
      "execution_count": 12,
      "outputs": [
        {
          "output_type": "execute_result",
          "data": {
            "text/plain": [
              "[(1, 2), (3, 4), (5, 6), (7, 8), (9, 10)]"
            ]
          },
          "metadata": {
            "tags": []
          },
          "execution_count": 12
        }
      ]
    },
    {
      "cell_type": "markdown",
      "metadata": {
        "id": "rq0LkNXKeP5m",
        "colab_type": "text"
      },
      "source": [
        "##### Method 2\n",
        "using *createDateFrame()* function"
      ]
    },
    {
      "cell_type": "code",
      "metadata": {
        "id": "J10LAfh8d-pI",
        "colab_type": "code",
        "colab": {}
      },
      "source": [
        "Employee = spark.createDataFrame([\n",
        "('1', 'Joe', '70000', '1'),\n",
        "('2', 'Henry', '80000', '2'),\n",
        "('3', 'Sam', '60000', '2'),\n",
        "('4', 'Max', '90000', '1')],\n",
        "['Id', 'Name', 'Sallary','DepartmentId']\n",
        ")\n"
      ],
      "execution_count": 13,
      "outputs": []
    },
    {
      "cell_type": "code",
      "metadata": {
        "id": "by4asmY6en_I",
        "colab_type": "code",
        "colab": {
          "base_uri": "https://localhost:8080/",
          "height": 168
        },
        "outputId": "ba0df758-e358-4260-8ae2-791a1d91e6de"
      },
      "source": [
        "Employee.show()"
      ],
      "execution_count": 15,
      "outputs": [
        {
          "output_type": "stream",
          "text": [
            "+---+-----+-------+------------+\n",
            "| Id| Name|Sallary|DepartmentId|\n",
            "+---+-----+-------+------------+\n",
            "|  1|  Joe|  70000|           1|\n",
            "|  2|Henry|  80000|           2|\n",
            "|  3|  Sam|  60000|           2|\n",
            "|  4|  Max|  90000|           1|\n",
            "+---+-----+-------+------------+\n",
            "\n"
          ],
          "name": "stdout"
        }
      ]
    },
    {
      "cell_type": "markdown",
      "metadata": {
        "id": "vq4UZDU_evn6",
        "colab_type": "text"
      },
      "source": [
        "##### Method 3\n",
        "using *read* and *load* functions"
      ]
    },
    {
      "cell_type": "markdown",
      "metadata": {
        "id": "ZK1YtDv2qhGr",
        "colab_type": "text"
      },
      "source": [
        "The data for this part is used from FORCE 2020 Machine Learning Contest with Wells and Seismic\n",
        "\n",
        "(https://www.npd.no/en/force/events/machine-learning-contest-with-wells-and-seismic/)\n",
        "\n",
        "To know more about the data, please visit: https://xeek.ai/challenges/force-well-logs/overview"
      ]
    },
    {
      "cell_type": "code",
      "metadata": {
        "id": "8esmdSv7giyS",
        "colab_type": "code",
        "colab": {
          "base_uri": "https://localhost:8080/",
          "height": 151
        },
        "outputId": "5ef46ddc-019d-4981-adb9-447abd2372f3"
      },
      "source": [
        "!pip install gdown"
      ],
      "execution_count": 19,
      "outputs": [
        {
          "output_type": "stream",
          "text": [
            "Requirement already satisfied: gdown in /usr/local/lib/python3.6/dist-packages (3.6.4)\n",
            "Requirement already satisfied: tqdm in /usr/local/lib/python3.6/dist-packages (from gdown) (4.41.1)\n",
            "Requirement already satisfied: requests in /usr/local/lib/python3.6/dist-packages (from gdown) (2.23.0)\n",
            "Requirement already satisfied: six in /usr/local/lib/python3.6/dist-packages (from gdown) (1.15.0)\n",
            "Requirement already satisfied: chardet<4,>=3.0.2 in /usr/local/lib/python3.6/dist-packages (from requests->gdown) (3.0.4)\n",
            "Requirement already satisfied: certifi>=2017.4.17 in /usr/local/lib/python3.6/dist-packages (from requests->gdown) (2020.6.20)\n",
            "Requirement already satisfied: idna<3,>=2.5 in /usr/local/lib/python3.6/dist-packages (from requests->gdown) (2.10)\n",
            "Requirement already satisfied: urllib3!=1.25.0,!=1.25.1,<1.26,>=1.21.1 in /usr/local/lib/python3.6/dist-packages (from requests->gdown) (1.24.3)\n"
          ],
          "name": "stdout"
        }
      ]
    },
    {
      "cell_type": "code",
      "metadata": {
        "id": "jd0ZQKFXgmv7",
        "colab_type": "code",
        "colab": {
          "base_uri": "https://localhost:8080/",
          "height": 84
        },
        "outputId": "8e55ff40-8766-44ee-84ce-690f95aeeb9a"
      },
      "source": [
        "! gdown -O lecture_5_log_data.csv https://drive.google.com/uc?id=1YVq71iUjSjqyqJtkmSRbC9NLMCrx0478"
      ],
      "execution_count": 20,
      "outputs": [
        {
          "output_type": "stream",
          "text": [
            "Downloading...\n",
            "From: https://drive.google.com/uc?id=1YVq71iUjSjqyqJtkmSRbC9NLMCrx0478\n",
            "To: /content/lecture_5_log_data.csv\n",
            "280MB [00:05, 54.6MB/s]\n"
          ],
          "name": "stdout"
        }
      ]
    },
    {
      "cell_type": "code",
      "metadata": {
        "id": "c4CcynIcepXC",
        "colab_type": "code",
        "colab": {
          "base_uri": "https://localhost:8080/",
          "height": 742
        },
        "outputId": "31390caf-6ed3-48d1-a635-722ca1383c47"
      },
      "source": [
        "df = spark.read.format('csv').options(header='true', inferschema='true').load(\"lecture_5_log_data.csv\",header=True, sep = ';')\n",
        "df.show(5)\n",
        "df.printSchema()\n"
      ],
      "execution_count": 66,
      "outputs": [
        {
          "output_type": "stream",
          "text": [
            "+-------+--------+------------+---------+------------+------------+---------+------------+----+------------+------------+------------+------------+----+----+------------+------------+------------+----+------------+----+----+------------+---------+----+----+----+--------------------------------+---------------------------------+\n",
            "|   WELL|DEPTH_MD|       X_LOC|    Y_LOC|       Z_LOC|       GROUP|FORMATION|        CALI|RSHA|        RMED|        RDEP|        RHOB|          GR| SGR|NPHI|         PEF|         DTC|          SP|  BS|         ROP| DTS|DCAL|        DRHO|MUDWEIGHT|RMIC|ROPA| RXO|FORCE_2020_LITHOFACIES_LITHOLOGY|FORCE_2020_LITHOFACIES_CONFIDENCE|\n",
            "+-------+--------+------------+---------+------------+------------+---------+------------+----+------------+------------+------------+------------+----+----+------------+------------+------------+----+------------+----+----+------------+---------+----+----+----+--------------------------------+---------------------------------+\n",
            "|15/9-13| 494.528|437641.96875|6470972.5|-469.5018311|NORDLAND GP.|     null|19.480834961|null|1.6114097834|1.7986813784| 1.884185791| 80.20085144|null|null|20.915468216|161.13117981|24.612379074|null| 34.63640976|null|null|-0.574927628|     null|null|null|null|                           65000|                              1.0|\n",
            "|15/9-13|  494.68|437641.96875|6470972.5|-469.6538086|NORDLAND GP.|     null|19.468799591|null|1.6180702448|1.7956413031|1.8897935152|79.262886047|null|null|19.383012772|160.60346985|23.895530701|null| 34.63640976|null|null|-0.570188403|     null|null|null|null|                           65000|                              1.0|\n",
            "|15/9-13| 494.832|437641.96875|6470972.5|-469.8057861|NORDLAND GP.|     null|19.468799591|null|1.6264585257|1.8007333279|1.8965227604|74.821998596|null|null|22.591518402| 160.1736145| 23.91635704|null|34.779556274|null|null|-0.574245155|     null|null|null|null|                           65000|                              1.0|\n",
            "|15/9-13| 494.984|437641.96875|6470972.5|-469.9577942|NORDLAND GP.|     null|19.459281921|null|1.6215940714|1.8015166521| 1.891912818|72.878921509|null|null| 32.19190979|160.14942932| 23.79368782|null|39.965164185|null|null|-0.586315274|     null|null|null|null|                           65000|                              1.0|\n",
            "|15/9-13| 495.136|437641.96875|6470972.5|-470.1097717|NORDLAND GP.|     null|19.453100204|null|1.6026790142|1.7952990532|1.8800340891|71.729141235|null|null|38.495632172|160.12834167|24.104078293|null|57.483764648|null|null|-0.597913623|     null|null|null|null|                           65000|                              1.0|\n",
            "+-------+--------+------------+---------+------------+------------+---------+------------+----+------------+------------+------------+------------+----+----+------------+------------+------------+----+------------+----+----+------------+---------+----+----+----+--------------------------------+---------------------------------+\n",
            "only showing top 5 rows\n",
            "\n",
            "root\n",
            " |-- WELL: string (nullable = true)\n",
            " |-- DEPTH_MD: double (nullable = true)\n",
            " |-- X_LOC: double (nullable = true)\n",
            " |-- Y_LOC: double (nullable = true)\n",
            " |-- Z_LOC: double (nullable = true)\n",
            " |-- GROUP: string (nullable = true)\n",
            " |-- FORMATION: string (nullable = true)\n",
            " |-- CALI: double (nullable = true)\n",
            " |-- RSHA: double (nullable = true)\n",
            " |-- RMED: double (nullable = true)\n",
            " |-- RDEP: double (nullable = true)\n",
            " |-- RHOB: double (nullable = true)\n",
            " |-- GR: double (nullable = true)\n",
            " |-- SGR: double (nullable = true)\n",
            " |-- NPHI: double (nullable = true)\n",
            " |-- PEF: double (nullable = true)\n",
            " |-- DTC: double (nullable = true)\n",
            " |-- SP: double (nullable = true)\n",
            " |-- BS: double (nullable = true)\n",
            " |-- ROP: double (nullable = true)\n",
            " |-- DTS: double (nullable = true)\n",
            " |-- DCAL: double (nullable = true)\n",
            " |-- DRHO: double (nullable = true)\n",
            " |-- MUDWEIGHT: double (nullable = true)\n",
            " |-- RMIC: double (nullable = true)\n",
            " |-- ROPA: double (nullable = true)\n",
            " |-- RXO: double (nullable = true)\n",
            " |-- FORCE_2020_LITHOFACIES_LITHOLOGY: integer (nullable = true)\n",
            " |-- FORCE_2020_LITHOFACIES_CONFIDENCE: double (nullable = true)\n",
            "\n"
          ],
          "name": "stdout"
        }
      ]
    },
    {
      "cell_type": "markdown",
      "metadata": {
        "id": "hf6_v2wHr7UB",
        "colab_type": "text"
      },
      "source": [
        "##### Creating Spark Dataframe using dict"
      ]
    },
    {
      "cell_type": "code",
      "metadata": {
        "id": "GlA9t46he5D8",
        "colab_type": "code",
        "colab": {}
      },
      "source": [
        "d = {'A': [0, 1, 0],\n",
        "'B': [1, 0, 1],\n",
        "'C': [1, 0, 0]}\n"
      ],
      "execution_count": 34,
      "outputs": []
    },
    {
      "cell_type": "code",
      "metadata": {
        "id": "0yvusEi5hs7b",
        "colab_type": "code",
        "colab": {
          "base_uri": "https://localhost:8080/",
          "height": 151
        },
        "outputId": "39f18acc-cd2b-4a8e-fde1-60575f847d57"
      },
      "source": [
        "import numpy as np\n",
        "spark.createDataFrame(np.array(list(d.values())).T.tolist(),list(d.keys())).show()"
      ],
      "execution_count": 36,
      "outputs": [
        {
          "output_type": "stream",
          "text": [
            "+---+---+---+\n",
            "|  A|  B|  C|\n",
            "+---+---+---+\n",
            "|  0|  1|  1|\n",
            "|  1|  0|  0|\n",
            "|  0|  1|  0|\n",
            "+---+---+---+\n",
            "\n"
          ],
          "name": "stdout"
        }
      ]
    },
    {
      "cell_type": "code",
      "metadata": {
        "id": "EDTT3ONDhz5h",
        "colab_type": "code",
        "colab": {
          "base_uri": "https://localhost:8080/",
          "height": 87
        },
        "outputId": "9f468320-2bc7-4181-9875-b156659d2980"
      },
      "source": [
        "print (df.head(4))\n",
        "\n",
        "print (df.columns)\n",
        "\n",
        "print (df.dtypes)"
      ],
      "execution_count": 67,
      "outputs": [
        {
          "output_type": "stream",
          "text": [
            "[Row(WELL='15/9-13', DEPTH_MD=494.528, X_LOC=437641.96875, Y_LOC=6470972.5, Z_LOC=-469.5018311, GROUP='NORDLAND GP.', FORMATION=None, CALI=19.480834961, RSHA=None, RMED=1.6114097834, RDEP=1.7986813784, RHOB=1.884185791, GR=80.20085144, SGR=None, NPHI=None, PEF=20.915468216, DTC=161.13117981, SP=24.612379074, BS=None, ROP=34.63640976, DTS=None, DCAL=None, DRHO=-0.574927628, MUDWEIGHT=None, RMIC=None, ROPA=None, RXO=None, FORCE_2020_LITHOFACIES_LITHOLOGY=65000, FORCE_2020_LITHOFACIES_CONFIDENCE=1.0), Row(WELL='15/9-13', DEPTH_MD=494.68, X_LOC=437641.96875, Y_LOC=6470972.5, Z_LOC=-469.6538086, GROUP='NORDLAND GP.', FORMATION=None, CALI=19.468799591, RSHA=None, RMED=1.6180702448, RDEP=1.7956413031, RHOB=1.8897935152, GR=79.262886047, SGR=None, NPHI=None, PEF=19.383012772, DTC=160.60346985, SP=23.895530701, BS=None, ROP=34.63640976, DTS=None, DCAL=None, DRHO=-0.570188403, MUDWEIGHT=None, RMIC=None, ROPA=None, RXO=None, FORCE_2020_LITHOFACIES_LITHOLOGY=65000, FORCE_2020_LITHOFACIES_CONFIDENCE=1.0), Row(WELL='15/9-13', DEPTH_MD=494.832, X_LOC=437641.96875, Y_LOC=6470972.5, Z_LOC=-469.8057861, GROUP='NORDLAND GP.', FORMATION=None, CALI=19.468799591, RSHA=None, RMED=1.6264585257, RDEP=1.8007333279, RHOB=1.8965227604, GR=74.821998596, SGR=None, NPHI=None, PEF=22.591518402, DTC=160.1736145, SP=23.91635704, BS=None, ROP=34.779556274, DTS=None, DCAL=None, DRHO=-0.574245155, MUDWEIGHT=None, RMIC=None, ROPA=None, RXO=None, FORCE_2020_LITHOFACIES_LITHOLOGY=65000, FORCE_2020_LITHOFACIES_CONFIDENCE=1.0), Row(WELL='15/9-13', DEPTH_MD=494.984, X_LOC=437641.96875, Y_LOC=6470972.5, Z_LOC=-469.9577942, GROUP='NORDLAND GP.', FORMATION=None, CALI=19.459281921, RSHA=None, RMED=1.6215940714, RDEP=1.8015166521, RHOB=1.891912818, GR=72.878921509, SGR=None, NPHI=None, PEF=32.19190979, DTC=160.14942932, SP=23.79368782, BS=None, ROP=39.965164185, DTS=None, DCAL=None, DRHO=-0.586315274, MUDWEIGHT=None, RMIC=None, ROPA=None, RXO=None, FORCE_2020_LITHOFACIES_LITHOLOGY=65000, FORCE_2020_LITHOFACIES_CONFIDENCE=1.0)]\n",
            "['WELL', 'DEPTH_MD', 'X_LOC', 'Y_LOC', 'Z_LOC', 'GROUP', 'FORMATION', 'CALI', 'RSHA', 'RMED', 'RDEP', 'RHOB', 'GR', 'SGR', 'NPHI', 'PEF', 'DTC', 'SP', 'BS', 'ROP', 'DTS', 'DCAL', 'DRHO', 'MUDWEIGHT', 'RMIC', 'ROPA', 'RXO', 'FORCE_2020_LITHOFACIES_LITHOLOGY', 'FORCE_2020_LITHOFACIES_CONFIDENCE']\n",
            "[('WELL', 'string'), ('DEPTH_MD', 'double'), ('X_LOC', 'double'), ('Y_LOC', 'double'), ('Z_LOC', 'double'), ('GROUP', 'string'), ('FORMATION', 'string'), ('CALI', 'double'), ('RSHA', 'double'), ('RMED', 'double'), ('RDEP', 'double'), ('RHOB', 'double'), ('GR', 'double'), ('SGR', 'double'), ('NPHI', 'double'), ('PEF', 'double'), ('DTC', 'double'), ('SP', 'double'), ('BS', 'double'), ('ROP', 'double'), ('DTS', 'double'), ('DCAL', 'double'), ('DRHO', 'double'), ('MUDWEIGHT', 'double'), ('RMIC', 'double'), ('ROPA', 'double'), ('RXO', 'double'), ('FORCE_2020_LITHOFACIES_LITHOLOGY', 'int'), ('FORCE_2020_LITHOFACIES_CONFIDENCE', 'double')]\n"
          ],
          "name": "stdout"
        }
      ]
    },
    {
      "cell_type": "code",
      "metadata": {
        "id": "qzFYq_hYyoOx",
        "colab_type": "code",
        "colab": {
          "base_uri": "https://localhost:8080/",
          "height": 34
        },
        "outputId": "e96e2aef-f951-4b88-adb6-382316deb9a6"
      },
      "source": [
        "print('Shape of Pandas: ',df.toPandas().shape)"
      ],
      "execution_count": 79,
      "outputs": [
        {
          "output_type": "stream",
          "text": [
            "Shape of Pandas:  (1170511, 29)\n"
          ],
          "name": "stdout"
        }
      ]
    },
    {
      "cell_type": "code",
      "metadata": {
        "id": "kweUqLyAsjSf",
        "colab_type": "code",
        "colab": {
          "base_uri": "https://localhost:8080/",
          "height": 34
        },
        "outputId": "88f5c3c1-393a-426d-8154-1c580c66b588"
      },
      "source": [
        "# Finding null values in a column\n",
        "from pyspark.sql.functions import col\n",
        "df.where(col(\"NPHI\").isNull()).toPandas().shape\n",
        "\n"
      ],
      "execution_count": 80,
      "outputs": [
        {
          "output_type": "execute_result",
          "data": {
            "text/plain": [
              "(405102, 29)"
            ]
          },
          "metadata": {
            "tags": []
          },
          "execution_count": 80
        }
      ]
    },
    {
      "cell_type": "code",
      "metadata": {
        "id": "elMViOUFt9Y3",
        "colab_type": "code",
        "colab": {
          "base_uri": "https://localhost:8080/",
          "height": 205
        },
        "outputId": "4535de49-1889-4d8c-b267-2d81824ce929"
      },
      "source": [
        "# Renaming Column Names\n",
        "mapping = {'FORMATION':'formation','DEPTH_MD':'depth'}\n",
        "new_names = [mapping.get(col,col) for col in df.columns]\n",
        "\n",
        "df.toDF(*new_names).show(4)\n"
      ],
      "execution_count": 88,
      "outputs": [
        {
          "output_type": "stream",
          "text": [
            "+-------+-------+------------+---------+------------+------------+---------+------------+----+------------+------------+------------+------------+----+----+------------+------------+------------+----+------------+----+----+------------+---------+----+----+----+--------------------------------+---------------------------------+\n",
            "|   WELL|  depth|       X_LOC|    Y_LOC|       Z_LOC|       GROUP|formation|        CALI|RSHA|        RMED|        RDEP|        RHOB|          GR| SGR|NPHI|         PEF|         DTC|          SP|  BS|         ROP| DTS|DCAL|        DRHO|MUDWEIGHT|RMIC|ROPA| RXO|FORCE_2020_LITHOFACIES_LITHOLOGY|FORCE_2020_LITHOFACIES_CONFIDENCE|\n",
            "+-------+-------+------------+---------+------------+------------+---------+------------+----+------------+------------+------------+------------+----+----+------------+------------+------------+----+------------+----+----+------------+---------+----+----+----+--------------------------------+---------------------------------+\n",
            "|15/9-13|494.528|437641.96875|6470972.5|-469.5018311|NORDLAND GP.|     null|19.480834961|null|1.6114097834|1.7986813784| 1.884185791| 80.20085144|null|null|20.915468216|161.13117981|24.612379074|null| 34.63640976|null|null|-0.574927628|     null|null|null|null|                           65000|                              1.0|\n",
            "|15/9-13| 494.68|437641.96875|6470972.5|-469.6538086|NORDLAND GP.|     null|19.468799591|null|1.6180702448|1.7956413031|1.8897935152|79.262886047|null|null|19.383012772|160.60346985|23.895530701|null| 34.63640976|null|null|-0.570188403|     null|null|null|null|                           65000|                              1.0|\n",
            "|15/9-13|494.832|437641.96875|6470972.5|-469.8057861|NORDLAND GP.|     null|19.468799591|null|1.6264585257|1.8007333279|1.8965227604|74.821998596|null|null|22.591518402| 160.1736145| 23.91635704|null|34.779556274|null|null|-0.574245155|     null|null|null|null|                           65000|                              1.0|\n",
            "|15/9-13|494.984|437641.96875|6470972.5|-469.9577942|NORDLAND GP.|     null|19.459281921|null|1.6215940714|1.8015166521| 1.891912818|72.878921509|null|null| 32.19190979|160.14942932| 23.79368782|null|39.965164185|null|null|-0.586315274|     null|null|null|null|                           65000|                              1.0|\n",
            "+-------+-------+------------+---------+------------+------------+---------+------------+----+------------+------------+------------+------------+----+----+------------+------------+------------+----+------------+----+----+------------+---------+----+----+----+--------------------------------+---------------------------------+\n",
            "only showing top 4 rows\n",
            "\n"
          ],
          "name": "stdout"
        }
      ]
    },
    {
      "cell_type": "code",
      "metadata": {
        "id": "Ma6pYKVtxEuh",
        "colab_type": "code",
        "colab": {}
      },
      "source": [
        ""
      ],
      "execution_count": 88,
      "outputs": []
    },
    {
      "cell_type": "code",
      "metadata": {
        "id": "pQOmWU-s0AgZ",
        "colab_type": "code",
        "colab": {}
      },
      "source": [
        ""
      ],
      "execution_count": null,
      "outputs": []
    }
  ]
}